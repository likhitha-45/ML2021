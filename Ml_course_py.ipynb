{
  "nbformat": 4,
  "nbformat_minor": 0,
  "metadata": {
    "colab": {
      "name": "Ml course.py",
      "provenance": [],
      "collapsed_sections": [],
      "authorship_tag": "ABX9TyNy/uJox435H7AmJoAKbzZ+",
      "include_colab_link": true
    },
    "kernelspec": {
      "name": "python3",
      "display_name": "Python 3"
    }
  },
  "cells": [
    {
      "cell_type": "markdown",
      "metadata": {
        "id": "view-in-github",
        "colab_type": "text"
      },
      "source": [
        "<a href=\"https://colab.research.google.com/github/likhitha-45/ML2021/blob/main/Ml_course_py.ipynb\" target=\"_parent\"><img src=\"https://colab.research.google.com/assets/colab-badge.svg\" alt=\"Open In Colab\"/></a>"
      ]
    },
    {
      "cell_type": "code",
      "metadata": {
        "id": "7nj7NWf_f3SF",
        "outputId": "b7963bcc-9220-4276-9d3c-7fe6e4e8dd84",
        "colab": {
          "base_uri": "https://localhost:8080/",
          "height": 34
        }
      },
      "source": [
        "print(\"ML course is very interesting\")"
      ],
      "execution_count": 3,
      "outputs": [
        {
          "output_type": "stream",
          "text": [
            "ML course is very interesting\n"
          ],
          "name": "stdout"
        }
      ]
    }
  ]
}