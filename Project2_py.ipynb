{
  "nbformat": 4,
  "nbformat_minor": 0,
  "metadata": {
    "colab": {
      "name": "Project2.py",
      "provenance": [],
      "authorship_tag": "ABX9TyOv2JvGG/lBmIumYfvxI+Ue",
      "include_colab_link": true
    },
    "kernelspec": {
      "name": "python3",
      "display_name": "Python 3"
    }
  },
  "cells": [
    {
      "cell_type": "markdown",
      "metadata": {
        "id": "view-in-github",
        "colab_type": "text"
      },
      "source": [
        "<a href=\"https://colab.research.google.com/github/likhitha-45/ML2021/blob/main/Project2_py.ipynb\" target=\"_parent\"><img src=\"https://colab.research.google.com/assets/colab-badge.svg\" alt=\"Open In Colab\"/></a>"
      ]
    },
    {
      "cell_type": "markdown",
      "metadata": {
        "id": "ShZCWG-wmMKN"
      },
      "source": [
        "\n",
        "**PROJECT:Front end of our Bot**\n"
      ]
    },
    {
      "cell_type": "markdown",
      "metadata": {
        "id": "68aPZ7_AmXFl"
      },
      "source": [
        "**Team Members:**\n",
        "\n",
        "\n",
        "1. *Ponduri. Rajitha-19PA1A05E4*\n",
        "2. *Sandhireddy. Lakshmi Manasa-19PA1A05G3*\n",
        "3. *Pithani. Likhitha devi-19PA1A05D9*\n"
      ]
    },
    {
      "cell_type": "markdown",
      "metadata": {
        "id": "ATnuv2USolcy"
      },
      "source": [
        "**Objective of our front end project**\n",
        "* *The main objective is to create a web page using css, html and java script.*"
      ]
    }
  ]
}