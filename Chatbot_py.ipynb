{
  "nbformat": 4,
  "nbformat_minor": 0,
  "metadata": {
    "colab": {
      "name": "Chatbot.py",
      "provenance": [],
      "toc_visible": true,
      "authorship_tag": "ABX9TyMzjxJ3mE9N/aVP/ZhSnEFT",
      "include_colab_link": true
    },
    "kernelspec": {
      "name": "python3",
      "display_name": "Python 3"
    }
  },
  "cells": [
    {
      "cell_type": "markdown",
      "metadata": {
        "id": "view-in-github",
        "colab_type": "text"
      },
      "source": [
        "<a href=\"https://colab.research.google.com/github/likhitha-45/ML2021/blob/main/Chatbot_py.ipynb\" target=\"_parent\"><img src=\"https://colab.research.google.com/assets/colab-badge.svg\" alt=\"Open In Colab\"/></a>"
      ]
    },
    {
      "cell_type": "markdown",
      "metadata": {
        "id": "YoiXTj-4xkCe"
      },
      "source": [
        "\n",
        "\n",
        "MY chat bot on appropriate response to user"
      ]
    },
    {
      "cell_type": "code",
      "metadata": {
        "id": "lsF7CCtXwvlx",
        "outputId": "64d336fa-6f3f-4873-cbbb-24e20e87e307",
        "colab": {
          "base_uri": "https://localhost:8080/",
          "height": 370
        }
      },
      "source": [
        "\"\"\"\n",
        "This is my first chatbot project.\n",
        "1. It greets\" and introduces.\n",
        "2. Bot will greet and welcomes the person.\n",
        "3. Bot will ask what a person want to do, it will offer a choice of things based upon what bot is designed for.\n",
        "4. it will respond to users input appropriately.\n",
        "\"\"\"\n",
        "import random\n",
        "from datetime import datetime\n",
        "def greet_and_introduce():\n",
        "    responses=[\n",
        "        \"Hi There I am Maroon Nova (:-<. May I know your name. Can you help me \"\n",
        "        \"Wonderful, It is so nice to talk with you. I am bot\"\n",
        "    ]\n",
        "    print(random.choice(responses))\n",
        "def get_timeofday_greeting():\n",
        "    current_time=datetime.now()\n",
        "    timeofday_greeting=(\"good morning\")\n",
        "    if (current_time.hour>12 and current_time.hour<17):\n",
        "        timeofday_greeting=(\"good afternoon\")\n",
        "    elif (current_time.hour>17 and current_time.hour<22):\n",
        "        timeofday_greeting=(\"good evening\")\n",
        "    elif(current_time.hour>=22):\n",
        "        timeofday_greeting=(\" It's late\")\n",
        "    return timeofday_greeting\n",
        "\n",
        "\n",
        "\n",
        "def welcome(name):\n",
        "    messages=[\n",
        "         \"Nice to meet you\"\n",
        "         \"Lets have some good time together\"\n",
        "    ]\n",
        "    print(f\"{get_timeofday_greeting()},{random.choice(messages)}\")\n",
        "def show_menu():\n",
        "    print(\"1.calculate an expression\")\n",
        "    print(\"2.get current time\")\n",
        "    print(\"3.end this chat\")\n",
        "    print(\"................\")\n",
        "    try:\n",
        "        return int(input(\"enter your choice[1-3]\"))\n",
        "    except:\n",
        "        print(\"only enter choice from 1,2,3\")\n",
        "        return 0\n",
        "def evaluate_expression():\n",
        "    expr=input(\"enter an expression\")\n",
        "    try:\n",
        "        print(\"result =\",eval(expr))\n",
        "    except Exception as e:\n",
        "        print(str(e))\n",
        "def bot():\n",
        "    greet_and_introduce()\n",
        "    name=input(\"your name is :\")\n",
        "    welcome(name)\n",
        "    choice=show_menu()\n",
        "    while(choice!=3):\n",
        "        if(choice==1):\n",
        "            evaluate_expression()\n",
        "        elif(choice==2):\n",
        "            print(str(datetime.now()))\n",
        "        else:\n",
        "            print(\"I don't understand that\")\n",
        "        choice=show_menu()\n",
        "bot()\n",
        "\n"
      ],
      "execution_count": 1,
      "outputs": [
        {
          "output_type": "stream",
          "text": [
            "Hi There I am Maroon Nova (:-<. May I know your name. Can you help me Wonderful, It is so nice to talk with you. I am bot\n",
            "your name is :likhitha\n",
            "good morning,Nice to meet youLets have some good time together\n",
            "1.calculate an expression\n",
            "2.get current time\n",
            "3.end this chat\n",
            "................\n",
            "enter your choice[1-3]2\n",
            "2020-10-18 03:33:51.156603\n",
            "1.calculate an expression\n",
            "2.get current time\n",
            "3.end this chat\n",
            "................\n",
            "enter your choice[1-3]1\n",
            "enter an expression5**2\n",
            "result = 25\n",
            "1.calculate an expression\n",
            "2.get current time\n",
            "3.end this chat\n",
            "................\n",
            "enter your choice[1-3]3\n"
          ],
          "name": "stdout"
        }
      ]
    }
  ]
}